{
 "cells": [
  {
   "cell_type": "code",
   "execution_count": 1,
   "metadata": {},
   "outputs": [],
   "source": [
    "# Algoritmo base\n",
    "# https://www.cs.utexas.edu/~flame/Notes/NotesOnCholReal.pdf\n",
    "\n",
    "# Alterações feitas:\n",
    "\n",
    "# A matriz L = zero(A) está sendo criada fora da função\n",
    "# As alterações estão sendo feitas na própria matriz A\n",
    "# Utilizar .= e .-=, operações in-place, otimizaram a alocação\n",
    "# import Pkg\n",
    "# Pkg.add(\"BenchmarkTools\")"
   ]
  },
  {
   "cell_type": "code",
   "execution_count": 2,
   "metadata": {},
   "outputs": [],
   "source": [
    "using(LinearAlgebra)\n",
    "using BenchmarkTools"
   ]
  },
  {
   "cell_type": "code",
   "execution_count": 86,
   "metadata": {},
   "outputs": [
    {
     "data": {
      "text/plain": [
       "Cholesky_factorize (generic function with 1 method)"
      ]
     },
     "execution_count": 86,
     "metadata": {},
     "output_type": "execute_result"
    }
   ],
   "source": [
    "##### Nível 2\n",
    "\n",
    "# Algoritmo do livro (applied numerical linear algebra)\n",
    "function  Cholesky_factorize(A)\n",
    "    \n",
    "    # Número de linhas (1 alloc)\n",
    "    m = size(A, 1)\n",
    "    \n",
    "    L = zeros(Float64, m, m)\n",
    "    \n",
    "    # Loop principal\n",
    "    for j in 1:m\n",
    "        \n",
    "        # Somatório de Ljk ao quadrado\n",
    "        sumLjk::Float64 = 0.0\n",
    "        \n",
    "        for k in 1:j-1\n",
    "            sumLjk += L[j, k]*L[j, k]\n",
    "        end\n",
    "\n",
    "        # Alterações na diagonal de L\n",
    "         L[j, j] = sqrt(A[j, j] - sumLjk)\n",
    "\n",
    "        # Segundo loop principal\n",
    "        for i in j+1:m\n",
    "            \n",
    "            # Somatório do produto Lik e Ljk\n",
    "            sumLikLjk::Float64 = 0.0\n",
    "             for k in 1:j-1\n",
    "                sumLikLjk += L[i, k]*L[j, k]\n",
    "            end\n",
    "\n",
    "            # Alterações\n",
    "             L[i, j] = (A[i, j] - sumLikLjk)/L[j, j]\n",
    "        end\n",
    "    end\n",
    "\n",
    "    return L\n",
    "end"
   ]
  },
  {
   "cell_type": "code",
   "execution_count": 90,
   "metadata": {},
   "outputs": [
    {
     "name": "stdout",
     "output_type": "stream",
     "text": [
      "  0.000010 seconds (1 allocation: 896 bytes)\n",
      "  0.000021 seconds (5 allocations: 1008 bytes)\n",
      "------------------------------------------------"
     ]
    }
   ],
   "source": [
    "# TESTANDO NÍVEL 2 - TEMPO E ALOCAÇÃO\n",
    "\n",
    "n = 10\n",
    "X = randn(n, n)\n",
    "A = X*X'\n",
    "B = copy(A)\n",
    "\n",
    "@time Cholesky_factorize(A)\n",
    "@time cholesky(A)\n",
    "\n",
    "print(\"------------------------------------------------\")"
   ]
  },
  {
   "cell_type": "code",
   "execution_count": 130,
   "metadata": {},
   "outputs": [
    {
     "data": {
      "text/plain": [
       "Cholesky_by_blocks (generic function with 2 methods)"
      ]
     },
     "execution_count": 130,
     "metadata": {},
     "output_type": "execute_result"
    }
   ],
   "source": [
    "### Nível 3 ######\n",
    "\n",
    "function Cholesky_by_blocks(A, block_size)\n",
    "    # Número de linhas\n",
    "    n = size(A)[1]\n",
    "    for j in 1:block_size:n\n",
    "        b = min(n - j + 1, block_size)\n",
    "        # Realizando as alterações na própria matriz A, poupa alocações\n",
    "        A[j:j+b-1, j:j+b-1] .= cholesky(Symmetric(A[j:j+b-1, j:j+b-1])).L\n",
    "        A[j+b:n, j:j+b-1] /= A[j:j+b-1, j:j+b-1]'\n",
    "        A[j+b:n, j+b:n] .-= A[j+b:n, j:j+b-1]*A[j+b:n, j:j+b-1]'\n",
    "\n",
    "    end\n",
    "    return tril(A)\n",
    "end"
   ]
  },
  {
   "cell_type": "code",
   "execution_count": 140,
   "metadata": {},
   "outputs": [
    {
     "name": "stdout",
     "output_type": "stream",
     "text": [
      "  0.127589 seconds (2 allocations: 4.883 MiB, 2.35% gc time)\n",
      "  0.006350 seconds (6 allocations: 4.883 MiB)\n",
      "  0.011612 seconds (53 allocations: 22.307 MiB)\n",
      "----------------------------------------------------------------------------------"
     ]
    }
   ],
   "source": [
    "# TESTANDO NÍVEL 3 - ALOCAÇÃO E TEMPO - TESTE 1\n",
    "n = 800\n",
    "X = randn(n, n)\n",
    "size_block = 512\n",
    " \n",
    "A = X*X'\n",
    "\n",
    "@time Cholesky_factorize(A)\n",
    "@time cholesky(A)\n",
    "@time Cholesky_by_blocks(A, size_block) # Essa deve ficar por último pois altera A\n",
    "print(\"----------------------------------------------------------------------------------\")"
   ]
  },
  {
   "cell_type": "code",
   "execution_count": 695,
   "metadata": {},
   "outputs": [
    {
     "name": "stdout",
     "output_type": "stream",
     "text": [
      " 78.980518 seconds (3 allocations: 68.665 MiB)\n",
      "  2.625674 seconds (4 allocations: 68.665 MiB)\n",
      " 38.679976 seconds (49 allocations: 273.614 MiB, 8.69% gc time)\n",
      "----------------------------------------------------------------------------------"
     ]
    }
   ],
   "source": [
    "# TESTANDO NÍVEL 3 - ALOCAÇÃO E TEMPO - TESTE 2\n",
    "n = 3000\n",
    "X = randn(n, n)\n",
    "size_block = 2048\n",
    "A = X*X'\n",
    "\n",
    "@time Cholesky_factorize(A)\n",
    "@time cholesky(A)\n",
    "@time Cholesky_by_blocks(A, size_block) # Essa deve ficar por último pois altera A\n",
    "print(\"----------------------------------------------------------------------------------\")"
   ]
  },
  {
   "cell_type": "code",
   "execution_count": 113,
   "metadata": {},
   "outputs": [
    {
     "data": {
      "text/plain": [
       "5×5 Array{Float64,2}:\n",
       " 2.47912    0.0         0.0       0.0      0.0\n",
       " 0.188601   2.81673     0.0       0.0      0.0\n",
       " 0.0056648  1.85632     1.11233   0.0      0.0\n",
       " 1.83752    0.0364813  -0.106363  1.02072  0.0\n",
       " 1.46324    0.678428    2.84908   0.60267  0.0500096"
      ]
     },
     "metadata": {},
     "output_type": "display_data"
    },
    {
     "data": {
      "text/plain": [
       "5×5 LowerTriangular{Float64,Array{Float64,2}}:\n",
       " 2.47912     ⋅           ⋅         ⋅        ⋅ \n",
       " 0.188601   2.81673      ⋅         ⋅        ⋅ \n",
       " 0.0056648  1.85632     1.11233    ⋅        ⋅ \n",
       " 1.83752    0.0364813  -0.106363  1.02072   ⋅ \n",
       " 1.46324    0.678428    2.84908   0.60267  0.0500096"
      ]
     },
     "metadata": {},
     "output_type": "display_data"
    },
    {
     "data": {
      "text/plain": [
       "5×5 Array{Float64,2}:\n",
       " 2.47912    0.0         0.0       0.0      0.0\n",
       " 0.188601   2.81673     0.0       0.0      0.0\n",
       " 0.0056648  1.85632     1.11233   0.0      0.0\n",
       " 1.83752    0.0364813  -0.106363  1.02072  0.0\n",
       " 1.46324    0.678428    2.84908   0.60267  0.0500096"
      ]
     },
     "metadata": {},
     "output_type": "display_data"
    }
   ],
   "source": [
    "#### COMPARAÇÃO DOS RESULTADOS\n",
    "n = 5\n",
    "X = randn(5, 5)\n",
    "A =X*X'\n",
    "\n",
    "display(Cholesky_factorize(A))\n",
    "display(cholesky(A).L)\n",
    "display(Cholesky_by_blocks(A, 2))"
   ]
  },
  {
   "cell_type": "code",
   "execution_count": 138,
   "metadata": {},
   "outputs": [
    {
     "ename": "PosDefException",
     "evalue": "\u001b[91mPosDefException: matrix is not Hermitian; Cholesky factorization failed.\u001b[39m",
     "output_type": "error",
     "traceback": [
      "\u001b[91mPosDefException: matrix is not Hermitian; Cholesky factorization failed.\u001b[39m",
      "",
      "Stacktrace:",
      " [1] checkpositivedefinite(::Int64) at /build/julia-98cBbp/julia-1.4.1+dfsg/usr/share/julia/stdlib/v1.4/LinearAlgebra/src/factorization.jl:18",
      " [2] cholesky!(::Array{Float64,2}, ::Val{false}; check::Bool) at /build/julia-98cBbp/julia-1.4.1+dfsg/usr/share/julia/stdlib/v1.4/LinearAlgebra/src/cholesky.jl:255",
      " [3] #cholesky#136 at /build/julia-98cBbp/julia-1.4.1+dfsg/usr/share/julia/stdlib/v1.4/LinearAlgebra/src/cholesky.jl:348 [inlined]",
      " [4] cholesky at /build/julia-98cBbp/julia-1.4.1+dfsg/usr/share/julia/stdlib/v1.4/LinearAlgebra/src/cholesky.jl:348 [inlined] (repeats 2 times)",
      " [5] Cholesky_by_blocks(::Array{Float64,2}, ::Int64) at ./In[15]:9",
      " [6] top-level scope at In[138]:12"
     ]
    }
   ],
   "source": [
    "# NORMA DOS ERROS ! ! !\n",
    "n = 300\n",
    "X = randn(n, n)\n",
    "size_block = 256\n",
    "\n",
    "A = X*X'\n",
    "B = copy(A)\n",
    "\n",
    "\n",
    "L1 = cholesky(A).L\n",
    "L2 = Cholesky_factorize(A)\n",
    "L3 = Cholesky_by_blocks(A, size_block)\n",
    "\n",
    "\n",
    "display(norm(A - L1*L1'))\n",
    "display(norm(A - L2*L2'))\n",
    "# display(norm(A - L3*L3'))"
   ]
  },
  {
   "cell_type": "code",
   "execution_count": 141,
   "metadata": {},
   "outputs": [
    {
     "data": {
      "text/plain": [
       "cholesky_by_blocks! (generic function with 1 method)"
      ]
     },
     "execution_count": 141,
     "metadata": {},
     "output_type": "execute_result"
    }
   ],
   "source": [
    "using LinearAlgebra\n",
    "\n",
    "function cholesky_by_blocks!(A::Matrix{Float64}, block_size::Int)\n",
    "    n = size(A, 1)\n",
    "    for j in 1:block_size:n\n",
    "        b = min(block_size, n - j + 1)\n",
    "\n",
    "        # Fatoração do bloco diagonal\n",
    "        Ajj = @view A[j:j+b-1, j:j+b-1]\n",
    "        Ljj = cholesky(Ajj).L\n",
    "        copy!(Ajj, Ljj)\n",
    "\n",
    "        # Atualização do bloco abaixo\n",
    "        if j + b <= n\n",
    "            A21 = @view A[j+b:n, j:j+b-1]\n",
    "            ldiv!(LowerTriangular(Ljj), A21')\n",
    "\n",
    "            # Atualização do Schur complement\n",
    "            A22 = @view A[j+b:n, j+b:n]\n",
    "            BLAS.syrk!('L', 'N', -1.0, A21, 1.0, A22)\n",
    "        end\n",
    "    end\n",
    "\n",
    "    # Zera a parte superior (para garantir formato lower triangular)\n",
    "    for i in 1:n\n",
    "        for j in i+1:n\n",
    "            A[i, j] = 0.0\n",
    "        end\n",
    "    end\n",
    "\n",
    "    return A\n",
    "end\n"
   ]
  },
  {
   "cell_type": "code",
   "execution_count": 144,
   "metadata": {},
   "outputs": [
    {
     "ename": "PosDefException",
     "evalue": "\u001b[91mPosDefException: matrix is not Hermitian; Cholesky factorization failed.\u001b[39m",
     "output_type": "error",
     "traceback": [
      "\u001b[91mPosDefException: matrix is not Hermitian; Cholesky factorization failed.\u001b[39m",
      "",
      "Stacktrace:",
      " [1] checkpositivedefinite(::Int64) at /build/julia-98cBbp/julia-1.4.1+dfsg/usr/share/julia/stdlib/v1.4/LinearAlgebra/src/factorization.jl:18",
      " [2] cholesky!(::Array{Float64,2}, ::Val{false}; check::Bool) at /build/julia-98cBbp/julia-1.4.1+dfsg/usr/share/julia/stdlib/v1.4/LinearAlgebra/src/cholesky.jl:255",
      " [3] cholesky(::SubArray{Float64,2,Array{Float64,2},Tuple{UnitRange{Int64},UnitRange{Int64}},false}, ::Val{false}; check::Bool) at /build/julia-98cBbp/julia-1.4.1+dfsg/usr/share/julia/stdlib/v1.4/LinearAlgebra/src/cholesky.jl:348",
      " [4] cholesky at /build/julia-98cBbp/julia-1.4.1+dfsg/usr/share/julia/stdlib/v1.4/LinearAlgebra/src/cholesky.jl:348 [inlined] (repeats 2 times)",
      " [5] cholesky_by_blocks!(::Array{Float64,2}, ::Int64) at ./In[141]:10",
      " [6] top-level scope at In[144]:11"
     ]
    }
   ],
   "source": [
    "using LinearAlgebra\n",
    "\n",
    "n = 300\n",
    "block_size = 64\n",
    "\n",
    "X = randn(n,n)\n",
    "A = X * X'\n",
    "A = Symmetric(A)\n",
    "\n",
    "B = copy(Matrix(A))  # remove o wrapper Symmetric para o algoritmo inplace\n",
    "\n",
    "cholesky_by_blocks!(B, block_size)\n",
    "\n",
    "L_native = cholesky(A).L\n",
    "\n",
    "println(\"Erro da fatoração bloca: \", norm(B - L_native))\n"
   ]
  },
  {
   "cell_type": "code",
   "execution_count": 128,
   "metadata": {},
   "outputs": [],
   "source": [
    "using LinearAlgebra\n",
    "using BenchmarkTools\n",
    "\n",
    "x = rand(1000, 1000);\n",
    "pd = x * x'\n",
    "A = copy(pd)\n",
    "\n",
    "# @btime cholesky($pd);\n",
    "# @btime LAPACK.potrf!('L', $pd);"
   ]
  },
  {
   "cell_type": "code",
   "execution_count": 85,
   "metadata": {},
   "outputs": [
    {
     "data": {
      "text/plain": [
       "2.220446049250313e-16"
      ]
     },
     "execution_count": 85,
     "metadata": {},
     "output_type": "execute_result"
    }
   ],
   "source": [
    "L = tril(pd)\n",
    "\n",
    "A - L*L'"
   ]
  },
  {
   "cell_type": "code",
   "execution_count": 143,
   "metadata": {},
   "outputs": [
    {
     "data": {
      "text/plain": [
       "blocked_cholesky! (generic function with 1 method)"
      ]
     },
     "execution_count": 143,
     "metadata": {},
     "output_type": "execute_result"
    }
   ],
   "source": [
    "using LinearAlgebra\n",
    "using LinearAlgebra.LAPACK\n",
    "using LinearAlgebra.BLAS\n",
    "\n",
    "@views function blocked_cholesky!(A::Matrix{Float64}, nb::Int)\n",
    "    \n",
    "    n = size(A, 1)\n",
    "    \n",
    "    for j = 1:nb:n\n",
    "        b = min(n - j + 1, nb)\n",
    "        \n",
    "        # Passo 1: fatoração Cholesky do bloco A[j:j+b-1, j:j+b-1]\n",
    "        Ajj = A[j:j+b-1, j:j+b-1]\n",
    "        uplo = 'L'  # Fatoração inferior\n",
    "        info = LAPACK.potrf!(uplo, Ajj)\n",
    "\n",
    "        # Passo 2: triangular solve - TRSM\n",
    "        if j + b <= n\n",
    "            A21 = A[j+b:n, j:j+b-1]\n",
    "            BLAS.trsm!('R', 'L', 'T', 'N', 1.0, Ajj, A21)\n",
    "        end\n",
    "\n",
    "        # Passo 3: atualização simétrica - SYRK\n",
    "        if j + b <= n\n",
    "            A21 = A[j+b:n, j:j+b-1]\n",
    "            A22 = A[j+b:n, j+b:n]\n",
    "            BLAS.syrk!('L', 'N', -1.0, A21, 1.0, A22)\n",
    "        end\n",
    "    end\n",
    "    \n",
    "    # Zera a parte superior (já que estamos usando 'L')\n",
    "    for i in 1:n\n",
    "        for j in i+1:n\n",
    "            A[i, j] = 0.0\n",
    "        end\n",
    "    end\n",
    "\n",
    "    return A\n",
    "end\n"
   ]
  },
  {
   "cell_type": "code",
   "execution_count": 155,
   "metadata": {},
   "outputs": [
    {
     "name": "stdout",
     "output_type": "stream",
     "text": [
      "  8.971 ms (6 allocations: 7.63 MiB)\n",
      "  5.558 ms (5 allocations: 320 bytes)\n"
     ]
    },
    {
     "data": {
      "text/plain": [
       "1000×1000 Array{Float64,2}:\n",
       " 1.0          0.0           0.0        …       0.0       0.0       0.0\n",
       " 0.756322  -870.464         0.0                0.0       0.0       0.0\n",
       " 0.726949    -3.30874      -9.54509            0.0       0.0       0.0\n",
       " 0.725027    -3.1775        3.00761            0.0       0.0       0.0\n",
       " 0.726864    -3.75841       3.00913            0.0       0.0       0.0\n",
       " 0.735788    -3.6435        2.97223    …       0.0       0.0       0.0\n",
       " 0.760082    -3.38595       2.89862            0.0       0.0       0.0\n",
       " 0.744626    -3.22696       3.33041            0.0       0.0       0.0\n",
       " 0.760455    -3.62061       3.43899            0.0       0.0       0.0\n",
       " 0.73499     -3.3635        2.86311            0.0       0.0       0.0\n",
       " 0.745124    -3.40303       2.83       …       0.0       0.0       0.0\n",
       " 0.755999    -3.65663       3.15416            0.0       0.0       0.0\n",
       " 0.749066    -3.13968       2.9152             0.0       0.0       0.0\n",
       " ⋮                                     ⋱                      \n",
       " 0.74435      0.000646002   0.0511107          0.0       0.0       0.0\n",
       " 0.744812     0.000646403   0.0511425          0.0       0.0       0.0\n",
       " 0.742551     0.000644441   0.0509873  …       0.0       0.0       0.0\n",
       " 0.740792     0.000642914   0.0508664          0.0       0.0       0.0\n",
       " 0.722113     0.000626703   0.0495838          0.0       0.0       0.0\n",
       " 0.734719     0.000637643   0.0504494          0.0       0.0       0.0\n",
       " 0.706369     0.00061304    0.0485028          0.0       0.0       0.0\n",
       " 0.747728     0.000648934   0.0513427  …       0.0       0.0       0.0\n",
       " 0.740945     0.000643047   0.050877           0.0       0.0       0.0\n",
       " 0.756066     0.00065617    0.0519152     -78211.8       0.0       0.0\n",
       " 0.751564     0.000652264   0.0516061     -77706.4  -77207.2       0.0\n",
       " 0.755643     0.000655803   0.0518862     -78129.3  -77626.5  -78049.5"
      ]
     },
     "execution_count": 155,
     "metadata": {},
     "output_type": "execute_result"
    }
   ],
   "source": [
    "x = rand(1000, 1000);\n",
    "pd = x*x'\n",
    "A = copy(pd)\n",
    "\n",
    "@btime cholesky($A)\n",
    "@btime blocked_cholesky!($pd, 512)"
   ]
  },
  {
   "cell_type": "code",
   "execution_count": 154,
   "metadata": {},
   "outputs": [
    {
     "data": {
      "text/plain": [
       "4×4 Array{Float64,2}:\n",
       " 2.18165  1.11409   1.2279    2.02837\n",
       " 1.11409  0.955268  0.417959  1.0724\n",
       " 1.2279   0.417959  1.06719   1.01608\n",
       " 2.02837  1.0724    1.01608   1.93202"
      ]
     },
     "metadata": {},
     "output_type": "display_data"
    },
    {
     "data": {
      "text/plain": [
       "4×4 Array{Float64,2}:\n",
       " 2.18165  1.11409   1.2279    2.02837\n",
       " 1.11409  0.955268  0.417959  1.0724\n",
       " 1.2279   0.417959  1.06719   1.01608\n",
       " 2.02837  1.0724    1.01608   1.93202"
      ]
     },
     "metadata": {},
     "output_type": "display_data"
    },
    {
     "data": {
      "text/plain": [
       "4.440892098500626e-16"
      ]
     },
     "metadata": {},
     "output_type": "display_data"
    }
   ],
   "source": [
    "pd = x * x'\n",
    "A = copy(pd)\n",
    "\n",
    "blocked_cholesky!(pd, 2)\n",
    "\n",
    "display(pd*pd')\n",
    "display(A)\n",
    "display(norm(A - pd*pd'))"
   ]
  }
 ],
 "metadata": {
  "kernelspec": {
   "display_name": "Julia 1.4.1",
   "language": "julia",
   "name": "julia-1.4"
  },
  "language_info": {
   "file_extension": ".jl",
   "mimetype": "application/julia",
   "name": "julia",
   "version": "1.4.1"
  }
 },
 "nbformat": 4,
 "nbformat_minor": 4
}
