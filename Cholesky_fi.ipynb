{
 "cells": [
  {
   "cell_type": "code",
   "execution_count": 70,
   "metadata": {},
   "outputs": [],
   "source": [
    "# Algoritmo base\n",
    "# https://www.cs.utexas.edu/~flame/Notes/NotesOnCholReal.pdf\n",
    "\n",
    "# Alterações feitas:\n",
    "\n",
    "# A matriz L = zero(A) está sendo criada fora da função\n",
    "# As alterações estão sendo feitas na própria matriz A\n",
    "# Utilizar .= e .-=, operações in-place, otimizaram a alocação"
   ]
  },
  {
   "cell_type": "code",
   "execution_count": 11,
   "metadata": {},
   "outputs": [],
   "source": [
    "using(LinearAlgebra)\n",
    "using(BenchmarkTools)"
   ]
  },
  {
   "cell_type": "code",
   "execution_count": 81,
   "metadata": {},
   "outputs": [
    {
     "data": {
      "text/plain": [
       "Cholesky_factorize (generic function with 3 methods)"
      ]
     },
     "execution_count": 81,
     "metadata": {},
     "output_type": "execute_result"
    }
   ],
   "source": [
    "##### Nível 2\n",
    "\n",
    "# Algoritmo do livro (applied numerical linear algebra)\n",
    "function  Cholesky_factorize(A::Matrix{Float64})\n",
    "\n",
    "    # Mateiz de zeros (2 alloc)\n",
    "    L = zero(A)\n",
    "    \n",
    "    # Número de linhas (1 alloc)\n",
    "    m = size(A, 1)\n",
    "    \n",
    "    # Loop principal\n",
    "    @inbounds for j in 1:m\n",
    "        \n",
    "        # Somatório de Ljk ao quadrado\n",
    "        sumLjk = 0\n",
    "        @inbounds for k in 1:j-1\n",
    "            sumLjk += L[j, k]*L[j, k]\n",
    "        end\n",
    "\n",
    "        # Alterações na diagonal de L\n",
    "        @inbounds L[j, j] = sqrt(A[j, j] - sumLjk)\n",
    "\n",
    "        # Segundo loop principal\n",
    "        @inbounds for i in j+1:m\n",
    "            \n",
    "            # Somatório do produto Lik e Ljk\n",
    "            sumLikLjk = 0\n",
    "            @inbounds @simd for k in 1:j-1\n",
    "                sumLikLjk += L[i, k]*L[j, k]\n",
    "            end\n",
    "\n",
    "            # Alterações\n",
    "            @inbounds L[i, j] = (A[i, j] - sumLikLjk)/L[j, j]\n",
    "        end\n",
    "    end\n",
    "\n",
    "    return L\n",
    "end"
   ]
  },
  {
   "cell_type": "code",
   "execution_count": 83,
   "metadata": {},
   "outputs": [
    {
     "name": "stdout",
     "output_type": "stream",
     "text": [
      "  3.882 s (3 allocations: 17.17 MiB)\n",
      "  241.328 ms (3 allocations: 17.17 MiB)\n",
      "------------------------------------------------"
     ]
    }
   ],
   "source": [
    "# TESTANDO NÍVEL 2 - TEMPO E ALOCAÇÃO\n",
    "\n",
    "n = 1500\n",
    "X = randn(n, n)\n",
    "A = X*X'\n",
    "\n",
    "\n",
    "@btime Cholesky_factorize($A)\n",
    "@btime cholesky($A)\n",
    "\n",
    "print(\"------------------------------------------------\")"
   ]
  },
  {
   "cell_type": "code",
   "execution_count": 68,
   "metadata": {},
   "outputs": [
    {
     "data": {
      "text/plain": [
       "Cholesky_by_blocks (generic function with 1 method)"
      ]
     },
     "execution_count": 68,
     "metadata": {},
     "output_type": "execute_result"
    }
   ],
   "source": [
    "### Nível 3 ######\n",
    "\n",
    "function Cholesky_by_blocks(A::Matrix{Float64}, block_size::Int)\n",
    "    # Número de linhas\n",
    "    n = size(A)[1]\n",
    "    for j in 1:block_size:n\n",
    "        b = min(n - j + 1, block_size)\n",
    "        # Realizando as alterações na própria matriz A, poupa alocações\n",
    "        A[j:j+b-1, j:j+b-1] .= cholesky(A[j:j+b-1, j:j+b-1]).L\n",
    "        A[j+b:n, j:j+b-1] /= A[j:j+b-1, j:j+b-1]'\n",
    "        A[j+b:n, j+b:n] .-= A[j+b:n, j:j+b-1]*A[j+b:n, j:j+b-1]'\n",
    "\n",
    "    end\n",
    "    return tril(A)\n",
    "end"
   ]
  },
  {
   "cell_type": "code",
   "execution_count": 73,
   "metadata": {},
   "outputs": [
    {
     "name": "stdout",
     "output_type": "stream",
     "text": [
      "  1.358177 seconds (3 allocations: 10.986 MiB, 0.09% gc time)\n",
      "  0.133569 seconds (4 allocations: 10.986 MiB)\n",
      "  0.509151 seconds (88 allocations: 52.504 MiB, 52.06% gc time)\n",
      "----------------------------------------------------------------------------------"
     ]
    }
   ],
   "source": [
    "# TESTANDO NÍVEL 3 - ALOCAÇÃO E TEMPO - TESTE 1\n",
    "n = 1200\n",
    "X = randn(n, n)\n",
    "size_block = 512\n",
    "A = X*X'\n",
    "\n",
    "@time Cholesky_factorize(A)\n",
    "@time cholesky(A)\n",
    "@time Cholesky_by_blocks(A, size_block) # Essa deve ficar por último pois altera A\n",
    "print(\"----------------------------------------------------------------------------------\")"
   ]
  },
  {
   "cell_type": "code",
   "execution_count": 695,
   "metadata": {},
   "outputs": [
    {
     "name": "stdout",
     "output_type": "stream",
     "text": [
      " 78.980518 seconds (3 allocations: 68.665 MiB)\n",
      "  2.625674 seconds (4 allocations: 68.665 MiB)\n",
      " 38.679976 seconds (49 allocations: 273.614 MiB, 8.69% gc time)\n",
      "----------------------------------------------------------------------------------"
     ]
    }
   ],
   "source": [
    "# TESTANDO NÍVEL 3 - ALOCAÇÃO E TEMPO - TESTE 2\n",
    "n = 3000\n",
    "X = randn(n, n)\n",
    "size_block = 2048\n",
    "A = X*X'\n",
    "\n",
    "@time Cholesky_factorize(A)\n",
    "@time cholesky(A)\n",
    "@time Cholesky_by_blocks(A, size_block) # Essa deve ficar por último pois altera A\n",
    "print(\"----------------------------------------------------------------------------------\")"
   ]
  },
  {
   "cell_type": "code",
   "execution_count": 696,
   "metadata": {},
   "outputs": [
    {
     "name": "stdout",
     "output_type": "stream",
     "text": [
      "550.065713 seconds (3 allocations: 190.735 MiB, 0.00% gc time)\n",
      " 23.421346 seconds (4 allocations: 190.735 MiB, 46.87% gc time)\n",
      "104.517186 seconds (79 allocations: 848.131 MiB, 21.14% gc time)\n",
      "----------------------------------------------------------------------------------"
     ]
    }
   ],
   "source": [
    "# TESTANDO NÍVEL 3 - ALOCAÇÃO E TEMPO - TESTE 3\n",
    "n = 5000\n",
    "X = randn(n, n)\n",
    "size_block = 2048\n",
    "A = X*X'\n",
    "\n",
    "@time Cholesky_factorize(A)\n",
    "@time cholesky(A)\n",
    "@time Cholesky_by_blocks(A, size_block) # Essa deve ficar por último pois altera A\n",
    "print(\"----------------------------------------------------------------------------------\")"
   ]
  },
  {
   "cell_type": "code",
   "execution_count": 18,
   "metadata": {},
   "outputs": [
    {
     "data": {
      "text/plain": [
       "3.59036593153747e-12"
      ]
     },
     "metadata": {},
     "output_type": "display_data"
    },
    {
     "data": {
      "text/plain": [
       "4.051936509396488e-12"
      ]
     },
     "metadata": {},
     "output_type": "display_data"
    },
    {
     "data": {
      "text/plain": [
       "2.269092769490994e-12"
      ]
     },
     "metadata": {},
     "output_type": "display_data"
    }
   ],
   "source": [
    "# ERROS ! ! !\n",
    "n = 500\n",
    "X = randn(n, n)\n",
    "size_block = 224\n",
    "\n",
    "A = X*X'\n",
    "B = copy(A)\n",
    "\n",
    "L1 = cholesky(A).L\n",
    "L2 = Cholesky_factorize(A)\n",
    "L3 = Cholesky_by_blocks(A, size_block)\n",
    "\n",
    "\n",
    "display(norm(B - L1*L1'))\n",
    "display(norm(B - L2*L2'))\n",
    "display(norm(B - L3*L3'))"
   ]
  },
  {
   "cell_type": "code",
   "execution_count": 19,
   "metadata": {},
   "outputs": [
    {
     "data": {
      "text/plain": [
       "4×4 Matrix{Float64}:\n",
       "  1.34659    0.0        0.0       0.0\n",
       " -0.900193   1.92343    0.0       0.0\n",
       " -1.19725   -1.5        1.92819   0.0\n",
       " -0.896621   0.782927  -0.414207  0.508874"
      ]
     },
     "metadata": {},
     "output_type": "display_data"
    },
    {
     "data": {
      "text/plain": [
       "4×4 LowerTriangular{Float64, Matrix{Float64}}:\n",
       "  1.34659     ⋅          ⋅         ⋅ \n",
       " -0.900193   1.92343     ⋅         ⋅ \n",
       " -1.19725   -1.5        1.92819    ⋅ \n",
       " -0.896621   0.782927  -0.414207  0.508874"
      ]
     },
     "metadata": {},
     "output_type": "display_data"
    },
    {
     "data": {
      "text/plain": [
       "4×4 Matrix{Float64}:\n",
       "  1.34659    0.0        0.0       0.0\n",
       " -0.900193   1.92343    0.0       0.0\n",
       " -1.19725   -1.5        1.92819   0.0\n",
       " -0.896621   0.782927  -0.414207  0.508874"
      ]
     },
     "metadata": {},
     "output_type": "display_data"
    }
   ],
   "source": [
    "#### COMPARAÇÃO DOS RESULTADOS\n",
    "X = randn(4, 4)\n",
    "A =X*X'\n",
    "\n",
    "display(Cholesky_factorize(A))\n",
    "display(cholesky(A).L)\n",
    "display(Cholesky_by_blocks(A, 2))"
   ]
  },
  {
   "cell_type": "code",
   "execution_count": 22,
   "metadata": {},
   "outputs": [
    {
     "name": "stdout",
     "output_type": "stream",
     "text": [
      "  0.000019 seconds (4 allocations: 208 bytes)\n",
      "  0.000014 seconds\n",
      "  0.000014 seconds\n"
     ]
    },
    {
     "data": {
      "text/plain": [
       "-0.2167463749787647"
      ]
     },
     "execution_count": 22,
     "metadata": {},
     "output_type": "execute_result"
    }
   ],
   "source": [
    "n = 10\n",
    "\n",
    "a = randn(n, 1)\n",
    "b = randn(n, 1)\n",
    "\n",
    "function prod(a::Matrix{Float64}, b::Matrix{Float64})\n",
    "        \n",
    "    soma = 0\n",
    "    l = size(a, 1)\n",
    "        \n",
    "    for i in 1:l\n",
    "        soma += a[i]*b[i]\n",
    "    end\n",
    "\n",
    "    return soma\n",
    "end\n",
    "\n",
    "function prodzip(a::Matrix{Float64}, b::Matrix{Float64})\n",
    "    \n",
    "    soma = 0\n",
    "    for (x, y) in zip(a, b)\n",
    "        soma += x*y\n",
    "    end\n",
    "\n",
    "    return soma\n",
    "\n",
    "end\n",
    "\n",
    "\n",
    "@time sum(a.*b)\n",
    "@time prod(a, b)\n",
    "@time prodzip(a, b)\n"
   ]
  },
  {
   "cell_type": "code",
   "execution_count": 387,
   "metadata": {},
   "outputs": [
    {
     "name": "stdout",
     "output_type": "stream",
     "text": [
      "  0.000701 seconds (2 allocations: 80 bytes)\n",
      "  0.000015 seconds (1 allocation: 48 bytes)\n"
     ]
    }
   ],
   "source": [
    "A = rand(5, 5)\n",
    "\n",
    "function acessarA(A::Matrix{Float64})\n",
    "\n",
    "    for x in A[1, 1:3]\n",
    "        x\n",
    "    end\n",
    "end\n",
    "\n",
    "@time A[1, 1:3]\n",
    "@time acessarA(A)\n"
   ]
  },
  {
   "cell_type": "code",
   "execution_count": 31,
   "metadata": {},
   "outputs": [
    {
     "name": "stdout",
     "output_type": "stream",
     "text": [
      "Meu Cholesky otimizado:\n",
      "  298.873 ms (3 allocations: 4.88 MiB)\n",
      "Função nativa:\n",
      "  33.513 ms (3 allocations: 4.88 MiB)\n"
     ]
    },
    {
     "data": {
      "text/plain": [
       "Cholesky{Float64, Matrix{Float64}}\n",
       "U factor:\n",
       "800×800 UpperTriangular{Float64, Matrix{Float64}}:\n",
       " 16.827  12.014   12.307    12.3746   …  12.6437     12.0436     12.138\n",
       "   ⋅     10.7504   4.84113   3.979        5.26709     4.75349     4.65579\n",
       "   ⋅       ⋅       9.77081   2.55134      2.46614     2.69496     2.39028\n",
       "   ⋅       ⋅        ⋅        9.49232      2.25599     2.31876     2.4085\n",
       "   ⋅       ⋅        ⋅         ⋅           1.37098     1.83028     1.35359\n",
       "   ⋅       ⋅        ⋅         ⋅       …   1.4251      1.25697     1.25465\n",
       "   ⋅       ⋅        ⋅         ⋅           0.931095    0.799382    1.13898\n",
       "   ⋅       ⋅        ⋅         ⋅           0.939443    0.8732      0.688567\n",
       "   ⋅       ⋅        ⋅         ⋅           0.690619    0.459858    0.762936\n",
       "   ⋅       ⋅        ⋅         ⋅           0.664876    1.0653      0.836598\n",
       "   ⋅       ⋅        ⋅         ⋅       …   0.612049    0.354188    0.915732\n",
       "   ⋅       ⋅        ⋅         ⋅           0.742169    0.898187    1.00676\n",
       "   ⋅       ⋅        ⋅         ⋅           0.71937     1.06461     0.247816\n",
       "  ⋮                                   ⋱                          \n",
       "   ⋅       ⋅        ⋅         ⋅          -0.241046   -0.0395932   0.0622525\n",
       "   ⋅       ⋅        ⋅         ⋅           0.557005    0.573272   -0.109052\n",
       "   ⋅       ⋅        ⋅         ⋅       …   0.125727   -0.568871    0.0416272\n",
       "   ⋅       ⋅        ⋅         ⋅          -0.571319    0.312906    0.723303\n",
       "   ⋅       ⋅        ⋅         ⋅          -0.482726    0.530964   -0.143449\n",
       "   ⋅       ⋅        ⋅         ⋅          -0.125555   -0.350389    0.544229\n",
       "   ⋅       ⋅        ⋅         ⋅           0.203864   -0.200816    0.284819\n",
       "   ⋅       ⋅        ⋅         ⋅       …  -0.0926213  -0.0978446   0.182102\n",
       "   ⋅       ⋅        ⋅         ⋅           0.313695    0.0339739   0.0446639\n",
       "   ⋅       ⋅        ⋅         ⋅           0.240402    0.400977    0.548246\n",
       "   ⋅       ⋅        ⋅         ⋅            ⋅          0.236116   -0.306347\n",
       "   ⋅       ⋅        ⋅         ⋅            ⋅           ⋅          0.0465489"
      ]
     },
     "execution_count": 31,
     "metadata": {},
     "output_type": "execute_result"
    }
   ],
   "source": [
    "using LinearAlgebra, BenchmarkTools\n",
    "\n",
    "function cholesky_fast!(A::AbstractMatrix{Float64})\n",
    "    m = size(A,1)\n",
    "    L = zeros(m,m)\n",
    "    for j in 1:m\n",
    "        sumLjk = 0.0\n",
    "        @inbounds for k in 1:j-1\n",
    "            # quadrado mais rápido que ^2\n",
    "            sumLjk += L[j,k] * L[j,k]\n",
    "        end\n",
    "        @inbounds L[j,j] = sqrt(A[j,j] - sumLjk)\n",
    "\n",
    "        for i in j+1:m\n",
    "            sumLikLjk = 0.0\n",
    "            @inbounds @simd for k in 1:j-1\n",
    "                sumLikLjk += L[i,k] * L[j,k]\n",
    "            end\n",
    "            @inbounds L[i,j] = (A[i,j] - sumLikLjk) / L[j,j]\n",
    "        end\n",
    "    end\n",
    "    return L\n",
    "end\n",
    "\n",
    "# Teste de velocidade\n",
    "n = 800\n",
    "X = rand(n,n)\n",
    "A = X * X'\n",
    "\n",
    "println(\"Meu Cholesky otimizado:\")\n",
    "@btime cholesky_fast!($A)\n",
    "println(\"Função nativa:\")\n",
    "@btime cholesky($A)"
   ]
  },
  {
   "cell_type": "code",
   "execution_count": 77,
   "metadata": {},
   "outputs": [
    {
     "ename": "LoadError",
     "evalue": "ArgumentError: Package / not found in current path.\n- Run `import Pkg; Pkg.add(\"/\")` to install the / package.",
     "output_type": "error",
     "traceback": [
      "ArgumentError: Package / not found in current path.\n- Run `import Pkg; Pkg.add(\"/\")` to install the / package.",
      "",
      "Stacktrace:",
      " [1] macro expansion",
      "   @ .\\loading.jl:2296 [inlined]",
      " [2] macro expansion",
      "   @ .\\lock.jl:273 [inlined]",
      " [3] __require(into::Module, mod::Symbol)",
      "   @ Base .\\loading.jl:2271",
      " [4] #invoke_in_world#3",
      "   @ .\\essentials.jl:1089 [inlined]",
      " [5] invoke_in_world",
      "   @ .\\essentials.jl:1086 [inlined]",
      " [6] require(into::Module, mod::Symbol)",
      "   @ Base .\\loading.jl:2260"
     ]
    }
   ],
   "source": [
    "using LinearAlgebra\n",
    "import/using .BLAS\n",
    "\n",
    "# 1) refatore a sua Cholesky para operar *in-place* sobre qualquer StridedMatrix\n",
    "function cholesky_inplace!(B::StridedMatrix{Float64})\n",
    "    m = size(B,1)\n",
    "    @assert size(B,2)==m\n",
    "    for j in 1:m\n",
    "        s = 0.0\n",
    "        @inbounds @simd for k in 1:j-1\n",
    "            s += B[j,k]*B[j,k]\n",
    "        end\n",
    "        @inbounds B[j,j] = sqrt(B[j,j] - s)\n",
    "        for i in j+1:m\n",
    "            t = 0.0\n",
    "            @inbounds @simd for k in 1:j-1\n",
    "                t += B[i,k]*B[j,k]\n",
    "            end\n",
    "            @inbounds B[i,j] = (B[i,j] - t)/B[j,j]\n",
    "        end\n",
    "    end\n",
    "    return LowerTriangular(B)\n",
    "end\n",
    "\n",
    "# 2) Cholesky *blocked*, sem nenhuma alocação extra fora do BLAS\n",
    "function cholesky_by_blocks!(A::Matrix{Float64}, block_size::Int=64)\n",
    "    n = size(A,1)\n",
    "    for j in 1:block_size:n\n",
    "        b = min(block_size, n-j+1)\n",
    "\n",
    "        # bloco diagonal ─ fatoração in-place\n",
    "        Bj = @view A[j:j+b-1, j:j+b-1]\n",
    "        cholesky_inplace!(Bj)  # escreve Ljj de volta em Bj\n",
    "\n",
    "        # resolve A[j+b:end, j:j+b-1] ← A21 * inv(Ljj)'\n",
    "        # (note: trsm! faz um triangular solve in-place)\n",
    "        BLAS.trsm!('R','L','T','N',\n",
    "                   1.0,\n",
    "                   Bj,\n",
    "                   @view A[j+b:end, j:j+b-1])\n",
    "\n",
    "        # atualização do trailing block: A22 -= A21 * A21'\n",
    "        BLAS.gemm!('N','T',\n",
    "                   -1.0,\n",
    "                   @view A[j+b:end, j:j+b-1],\n",
    "                   @view A[j+b:end, j:j+b-1],\n",
    "                   1.0,\n",
    "                   @view A[j+b:end, j+b:end])\n",
    "    end\n",
    "\n",
    "    return LowerTriangular(A)\n",
    "end\n"
   ]
  },
  {
   "cell_type": "code",
   "execution_count": 74,
   "metadata": {},
   "outputs": [
    {
     "ename": "LoadError",
     "evalue": "ParseError:\n\u001b[90m# Error @ \u001b[0;0m\u001b]8;;file://C:/Users/lucas/OneDrive/UFRJ/Cursos/Matemática Aplicada/5º Período/Álgebra Linear Computacional/In[74]#2:13\u001b\\\u001b[90mIn[74]:2:13\u001b[0;0m\u001b]8;;\u001b\\\nn = 800\nX = randn(n \u001b[48;2;120;70;70mn\u001b[0;0m)\n\u001b[90m#           ╙ ── \u001b[0;0m\u001b[91mExpected `)`\u001b[0;0m",
     "output_type": "error",
     "traceback": [
      "ParseError:\n\u001b[90m# Error @ \u001b[0;0m\u001b]8;;file://C:/Users/lucas/OneDrive/UFRJ/Cursos/Matemática Aplicada/5º Período/Álgebra Linear Computacional/In[74]#2:13\u001b\\\u001b[90mIn[74]:2:13\u001b[0;0m\u001b]8;;\u001b\\\nn = 800\nX = randn(n \u001b[48;2;120;70;70mn\u001b[0;0m)\n\u001b[90m#           ╙ ── \u001b[0;0m\u001b[91mExpected `)`\u001b[0;0m",
      "",
      "Stacktrace:",
      " [1] top-level scope",
      "   @ In[74]:2"
     ]
    }
   ],
   "source": [
    "n = 800\n",
    "X = randn(n n)\n",
    "A = X*X'\n",
    "\n",
    "cholesky_by_blocks(A, 512)\n",
    "\n"
   ]
  }
 ],
 "metadata": {
  "kernelspec": {
   "display_name": "Julia 1.11.4",
   "language": "julia",
   "name": "julia-1.11"
  },
  "language_info": {
   "file_extension": ".jl",
   "mimetype": "application/julia",
   "name": "julia",
   "version": "1.11.4"
  }
 },
 "nbformat": 4,
 "nbformat_minor": 4
}
