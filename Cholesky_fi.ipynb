{
 "cells": [
  {
   "cell_type": "code",
   "execution_count": 70,
   "metadata": {},
   "outputs": [],
   "source": [
    "# Algoritmo base\n",
    "# https://www.cs.utexas.edu/~flame/Notes/NotesOnCholReal.pdf\n",
    "\n",
    "# Alterações feitas:\n",
    "\n",
    "# A matriz L = zero(A) está sendo criada fora da função\n",
    "# As alterações estão sendo feitas na própria matriz A\n",
    "# Utilizar .= e .-=, operações in-place, otimizaram a alocação"
   ]
  },
  {
   "cell_type": "code",
   "execution_count": 10,
   "metadata": {},
   "outputs": [],
   "source": [
    "using(LinearAlgebra)"
   ]
  },
  {
   "cell_type": "code",
   "execution_count": 11,
   "metadata": {},
   "outputs": [
    {
     "data": {
      "text/plain": [
       "Cholesky_factorize (generic function with 1 method)"
      ]
     },
     "execution_count": 11,
     "metadata": {},
     "output_type": "execute_result"
    }
   ],
   "source": [
    "##### Nível 2\n",
    "\n",
    "# Algoritmo do livro (applied numerical linear algebra)\n",
    "function  Cholesky_factorize(A::Matrix{Float64})\n",
    "    \n",
    "    # L: matriz de zeros que será alterada, mesmo tamanho de A\n",
    "    L = zero(A)\n",
    "    \n",
    "    # Número de linhas\n",
    "    m = size(A, 1)\n",
    "\n",
    "    # Loop principal\n",
    "    for j in 1:m\n",
    "        \n",
    "        # Somatório de Ljk ao quadrado\n",
    "        sumLjk = 0\n",
    "        for k in 1:j-1\n",
    "            sumLjk += L[j, k]^2\n",
    "        end\n",
    "\n",
    "        # Alterações na diagonal de L\n",
    "        L[j, j] = (A[j, j] - sumLjk)^(0.5)\n",
    "\n",
    "        # Segundo loop principal\n",
    "        for i in j+1:m\n",
    "            \n",
    "            # Somatório do produto Lik e Ljk\n",
    "            sumLikLjk = 0\n",
    "            for k in 1:j-1\n",
    "                sumLikLjk += L[i, k]*L[j, k]\n",
    "            end\n",
    "\n",
    "            # Alterações\n",
    "            L[i, j] = (A[i, j] - sumLikLjk)/L[j, j]\n",
    "        end\n",
    "    end\n",
    "\n",
    "    return L\n",
    "end"
   ]
  },
  {
   "cell_type": "code",
   "execution_count": 12,
   "metadata": {},
   "outputs": [
    {
     "name": "stdout",
     "output_type": "stream",
     "text": [
      "  0.026061 seconds (3 allocations: 1.221 MiB)\n",
      "  0.004691 seconds (4 allocations: 1.221 MiB)\n",
      "------------------------------------------------"
     ]
    }
   ],
   "source": [
    "# TESTANDO NÍVEL 2 - TEMPO E ALOCAÇÃO\n",
    "\n",
    "n = 400\n",
    "X = randn(n, n)\n",
    "\n",
    "A = X*X'\n",
    "\n",
    "@time Cholesky_factorize(A)\n",
    "@time cholesky(A)\n",
    "\n",
    "print(\"------------------------------------------------\")"
   ]
  },
  {
   "cell_type": "code",
   "execution_count": 13,
   "metadata": {},
   "outputs": [
    {
     "data": {
      "text/plain": [
       "Cholesky_by_blocks (generic function with 1 method)"
      ]
     },
     "execution_count": 13,
     "metadata": {},
     "output_type": "execute_result"
    }
   ],
   "source": [
    "### Nível 3 ######\n",
    "\n",
    "function Cholesky_by_blocks(A::Matrix{Float64}, block_size::Int)\n",
    "    # Número de linhas\n",
    "    n = size(A)[1]\n",
    "    for j in 1:block_size:n\n",
    "        b = min(n - j + 1, block_size)\n",
    "        # Realizando as alterações na própria matriz A, poupa alocações\n",
    "        A[j:j+b-1, j:j+b-1] .= Cholesky_factorize(A[j:j+b-1, j:j+b-1])\n",
    "        A[j+b:n, j:j+b-1] /= A[j:j+b-1, j:j+b-1]'\n",
    "        A[j+b:n, j+b:n] .-= A[j+b:n, j:j+b-1]*A[j+b:n, j:j+b-1]'\n",
    "\n",
    "    end\n",
    "    return tril(A)\n",
    "end"
   ]
  },
  {
   "cell_type": "code",
   "execution_count": 16,
   "metadata": {},
   "outputs": [
    {
     "name": "stdout",
     "output_type": "stream",
     "text": [
      "  0.374046 seconds (3 allocations: 4.883 MiB)\n",
      "  0.038103 seconds (4 allocations: 4.883 MiB, 15.22% gc time)\n",
      "  0.237205 seconds (49 allocations: 19.673 MiB, 2.22% gc time)\n",
      "----------------------------------------------------------------------------------"
     ]
    }
   ],
   "source": [
    "# TESTANDO NÍVEL 3 - ALOCAÇÃO E TEMPO - TESTE 1\n",
    "n = 800\n",
    "X = randn(n, n)\n",
    "size_block = 512\n",
    "A = X*X'\n",
    "\n",
    "@time Cholesky_factorize(A)\n",
    "@time cholesky(A)\n",
    "@time Cholesky_by_blocks(A, size_block) # Essa deve ficar por último pois altera A\n",
    "print(\"----------------------------------------------------------------------------------\")"
   ]
  },
  {
   "cell_type": "code",
   "execution_count": 695,
   "metadata": {},
   "outputs": [
    {
     "name": "stdout",
     "output_type": "stream",
     "text": [
      " 78.980518 seconds (3 allocations: 68.665 MiB)\n",
      "  2.625674 seconds (4 allocations: 68.665 MiB)\n",
      " 38.679976 seconds (49 allocations: 273.614 MiB, 8.69% gc time)\n",
      "----------------------------------------------------------------------------------"
     ]
    }
   ],
   "source": [
    "# TESTANDO NÍVEL 3 - ALOCAÇÃO E TEMPO - TESTE 2\n",
    "n = 3000\n",
    "X = randn(n, n)\n",
    "size_block = 2048\n",
    "A = X*X'\n",
    "\n",
    "@time Cholesky_factorize(A)\n",
    "@time cholesky(A)\n",
    "@time Cholesky_by_blocks(A, size_block) # Essa deve ficar por último pois altera A\n",
    "print(\"----------------------------------------------------------------------------------\")"
   ]
  },
  {
   "cell_type": "code",
   "execution_count": 696,
   "metadata": {},
   "outputs": [
    {
     "name": "stdout",
     "output_type": "stream",
     "text": [
      "550.065713 seconds (3 allocations: 190.735 MiB, 0.00% gc time)\n",
      " 23.421346 seconds (4 allocations: 190.735 MiB, 46.87% gc time)\n",
      "104.517186 seconds (79 allocations: 848.131 MiB, 21.14% gc time)\n",
      "----------------------------------------------------------------------------------"
     ]
    }
   ],
   "source": [
    "# TESTANDO NÍVEL 3 - ALOCAÇÃO E TEMPO - TESTE 3\n",
    "n = 5000\n",
    "X = randn(n, n)\n",
    "size_block = 2048\n",
    "A = X*X'\n",
    "\n",
    "@time Cholesky_factorize(A)\n",
    "@time cholesky(A)\n",
    "@time Cholesky_by_blocks(A, size_block) # Essa deve ficar por último pois altera A\n",
    "print(\"----------------------------------------------------------------------------------\")"
   ]
  },
  {
   "cell_type": "code",
   "execution_count": 18,
   "metadata": {},
   "outputs": [
    {
     "data": {
      "text/plain": [
       "3.59036593153747e-12"
      ]
     },
     "metadata": {},
     "output_type": "display_data"
    },
    {
     "data": {
      "text/plain": [
       "4.051936509396488e-12"
      ]
     },
     "metadata": {},
     "output_type": "display_data"
    },
    {
     "data": {
      "text/plain": [
       "2.269092769490994e-12"
      ]
     },
     "metadata": {},
     "output_type": "display_data"
    }
   ],
   "source": [
    "# ERROS ! ! !\n",
    "n = 500\n",
    "X = randn(n, n)\n",
    "size_block = 224\n",
    "\n",
    "A = X*X'\n",
    "B = copy(A)\n",
    "\n",
    "L1 = cholesky(A).L\n",
    "L2 = Cholesky_factorize(A)\n",
    "L3 = Cholesky_by_blocks(A, size_block)\n",
    "\n",
    "\n",
    "display(norm(B - L1*L1'))\n",
    "display(norm(B - L2*L2'))\n",
    "display(norm(B - L3*L3'))"
   ]
  },
  {
   "cell_type": "code",
   "execution_count": 19,
   "metadata": {},
   "outputs": [
    {
     "data": {
      "text/plain": [
       "4×4 Matrix{Float64}:\n",
       "  1.34659    0.0        0.0       0.0\n",
       " -0.900193   1.92343    0.0       0.0\n",
       " -1.19725   -1.5        1.92819   0.0\n",
       " -0.896621   0.782927  -0.414207  0.508874"
      ]
     },
     "metadata": {},
     "output_type": "display_data"
    },
    {
     "data": {
      "text/plain": [
       "4×4 LowerTriangular{Float64, Matrix{Float64}}:\n",
       "  1.34659     ⋅          ⋅         ⋅ \n",
       " -0.900193   1.92343     ⋅         ⋅ \n",
       " -1.19725   -1.5        1.92819    ⋅ \n",
       " -0.896621   0.782927  -0.414207  0.508874"
      ]
     },
     "metadata": {},
     "output_type": "display_data"
    },
    {
     "data": {
      "text/plain": [
       "4×4 Matrix{Float64}:\n",
       "  1.34659    0.0        0.0       0.0\n",
       " -0.900193   1.92343    0.0       0.0\n",
       " -1.19725   -1.5        1.92819   0.0\n",
       " -0.896621   0.782927  -0.414207  0.508874"
      ]
     },
     "metadata": {},
     "output_type": "display_data"
    }
   ],
   "source": [
    "#### COMPARAÇÃO DOS RESULTADOS\n",
    "X = randn(4, 4)\n",
    "A =X*X'\n",
    "\n",
    "display(Cholesky_factorize(A))\n",
    "display(cholesky(A).L)\n",
    "display(Cholesky_by_blocks(A, 2))"
   ]
  },
  {
   "cell_type": "code",
   "execution_count": 22,
   "metadata": {},
   "outputs": [
    {
     "name": "stdout",
     "output_type": "stream",
     "text": [
      "  0.000019 seconds (4 allocations: 208 bytes)\n",
      "  0.000014 seconds\n",
      "  0.000014 seconds\n"
     ]
    },
    {
     "data": {
      "text/plain": [
       "-0.2167463749787647"
      ]
     },
     "execution_count": 22,
     "metadata": {},
     "output_type": "execute_result"
    }
   ],
   "source": [
    "n = 10\n",
    "\n",
    "a = randn(n, 1)\n",
    "b = randn(n, 1)\n",
    "\n",
    "function prod(a::Matrix{Float64}, b::Matrix{Float64})\n",
    "        \n",
    "    soma = 0\n",
    "    l = size(a, 1)\n",
    "        \n",
    "    for i in 1:l\n",
    "        soma += a[i]*b[i]\n",
    "    end\n",
    "\n",
    "    return soma\n",
    "end\n",
    "\n",
    "function prodzip(a::Matrix{Float64}, b::Matrix{Float64})\n",
    "    \n",
    "    soma = 0\n",
    "    for (x, y) in zip(a, b)\n",
    "        soma += x*y\n",
    "    end\n",
    "\n",
    "    return soma\n",
    "\n",
    "end\n",
    "\n",
    "\n",
    "@time sum(a.*b)\n",
    "@time prod(a, b)\n",
    "@time prodzip(a, b)\n"
   ]
  },
  {
   "cell_type": "code",
   "execution_count": 387,
   "metadata": {},
   "outputs": [
    {
     "name": "stdout",
     "output_type": "stream",
     "text": [
      "  0.000701 seconds (2 allocations: 80 bytes)\n",
      "  0.000015 seconds (1 allocation: 48 bytes)\n"
     ]
    }
   ],
   "source": [
    "A = rand(5, 5)\n",
    "\n",
    "function acessarA(A::Matrix{Float64})\n",
    "\n",
    "    for x in A[1, 1:3]\n",
    "        x\n",
    "    end\n",
    "end\n",
    "\n",
    "@time A[1, 1:3]\n",
    "@time acessarA(A)\n"
   ]
  }
 ],
 "metadata": {
  "kernelspec": {
   "display_name": "Julia 1.11.4",
   "language": "julia",
   "name": "julia-1.11"
  },
  "language_info": {
   "file_extension": ".jl",
   "mimetype": "application/julia",
   "name": "julia",
   "version": "1.11.4"
  }
 },
 "nbformat": 4,
 "nbformat_minor": 4
}
