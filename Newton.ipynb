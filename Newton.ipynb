{
 "cells": [
  {
   "cell_type": "code",
   "execution_count": 9,
   "id": "b56ce615-cc7f-4fc1-b346-5b08f6f8df71",
   "metadata": {},
   "outputs": [
    {
     "name": "stderr",
     "output_type": "stream",
     "text": [
      "\u001b[32m\u001b[1m    Updating\u001b[22m\u001b[39m registry at `C:\\Users\\lucas\\.julia\\registries\\General.toml`\n",
      "\u001b[32m\u001b[1m   Resolving\u001b[22m\u001b[39m package versions...\n",
      "\u001b[32m\u001b[1m   Installed\u001b[22m\u001b[39m Quadmath ─ v0.5.11\n",
      "\u001b[32m\u001b[1m    Updating\u001b[22m\u001b[39m `C:\\Users\\lucas\\.julia\\environments\\v1.11\\Project.toml`\n",
      "  \u001b[90m[be4d8f0f] \u001b[39m\u001b[92m+ Quadmath v0.5.11\u001b[39m\n",
      "\u001b[32m\u001b[1m    Updating\u001b[22m\u001b[39m `C:\\Users\\lucas\\.julia\\environments\\v1.11\\Manifest.toml`\n",
      "  \u001b[90m[be4d8f0f] \u001b[39m\u001b[92m+ Quadmath v0.5.11\u001b[39m\n",
      "\u001b[92m\u001b[1mPrecompiling\u001b[22m\u001b[39m project...\n",
      "  13342.5 ms\u001b[32m  ✓ \u001b[39mQuadmath\n",
      "  1 dependency successfully precompiled in 33 seconds. 283 already precompiled.\n"
     ]
    }
   ],
   "source": [
    "using(Pkg)\n",
    "Pkg.add(\"Quadmath\")\n",
    "using(Quadmath)"
   ]
  },
  {
   "cell_type": "code",
   "execution_count": 10,
   "id": "a30de9db-b9e0-4a74-b81d-b9df988b5ae8",
   "metadata": {},
   "outputs": [],
   "source": [
    "using(LinearAlgebra)\n",
    "using(MatrixDepot)\n",
    "using(Plots)\n",
    "using(StatsPlots)"
   ]
  },
  {
   "cell_type": "code",
   "execution_count": 6,
   "id": "5334fea7-24ff-4c26-930c-7be34f6b17dd",
   "metadata": {},
   "outputs": [
    {
     "data": {
      "text/plain": [
       "Newton (generic function with 1 method)"
      ]
     },
     "execution_count": 6,
     "metadata": {},
     "output_type": "execute_result"
    }
   ],
   "source": [
    "function Newton(n, i)\n",
    "    A = matrixdepot(\"golub\", n)\n",
    "    b = randn(n, 1)\n",
    "    F = lu(A)\n",
    "    x = F.U\\(F.L\\b[F.p])\n",
    "\n",
    "    for l in 1:i\n",
    "        r = Float64(Float128(A*x) - b)\n",
    "        d = F.U\\(F.L\\r[F.p])\n",
    "        x = x - d\n",
    "    end\n",
    "\n",
    "    return \n",
    "end"
   ]
  },
  {
   "cell_type": "code",
   "execution_count": 7,
   "id": "e1058beb-7ea5-4718-a30a-3a08b1938687",
   "metadata": {},
   "outputs": [
    {
     "data": {
      "text/plain": [
       "5-element Vector{Float64}:\n",
       "  25627.728042852967\n",
       " -37980.30364840649\n",
       "   5098.056770046542\n",
       "  -2315.0554677060204\n",
       "   -546.3694861164576"
      ]
     },
     "execution_count": 7,
     "metadata": {},
     "output_type": "execute_result"
    }
   ],
   "source": [
    "A = matrixdepot(\"golub\", 5)\n",
    "b = randn(5, 1)\n",
    "F = lu(A)\n",
    "d = F.U\\(F.L\\b[F.p])"
   ]
  },
  {
   "cell_type": "code",
   "execution_count": 11,
   "id": "c7775fb3-0335-4bf0-b4aa-7518706fbadd",
   "metadata": {},
   "outputs": [
    {
     "ename": "LoadError",
     "evalue": "MethodError: no method matching Float128(::Vector{Float64})\nThe type `Float128` exists, but no method is defined for this combination of argument types when trying to construct it.\n\n\u001b[0mClosest candidates are:\n\u001b[0m  Float128(\u001b[91m::BigFloat\u001b[39m)\n\u001b[0m\u001b[90m   @\u001b[39m \u001b[36mQuadmath\u001b[39m \u001b[90mC:\\Users\\lucas\\.julia\\packages\\Quadmath\\3ftGV\\src\\\u001b[39m\u001b[90m\u001b[4mQuadmath.jl:527\u001b[24m\u001b[39m\n\u001b[0m  Float128(\u001b[91m::Float128\u001b[39m)\n\u001b[0m\u001b[90m   @\u001b[39m \u001b[36mQuadmath\u001b[39m \u001b[90mC:\\Users\\lucas\\.julia\\packages\\Quadmath\\3ftGV\\src\\\u001b[39m\u001b[90m\u001b[4mQuadmath.jl:133\u001b[24m\u001b[39m\n\u001b[0m  Float128(\u001b[91m::Float64\u001b[39m)\n\u001b[0m\u001b[90m   @\u001b[39m \u001b[36mQuadmath\u001b[39m \u001b[90mC:\\Users\\lucas\\.julia\\packages\\Quadmath\\3ftGV\\src\\\u001b[39m\u001b[90m\u001b[4mQuadmath.jl:136\u001b[24m\u001b[39m\n\u001b[0m  ...\n",
     "output_type": "error",
     "traceback": [
      "MethodError: no method matching Float128(::Vector{Float64})\nThe type `Float128` exists, but no method is defined for this combination of argument types when trying to construct it.\n\n\u001b[0mClosest candidates are:\n\u001b[0m  Float128(\u001b[91m::BigFloat\u001b[39m)\n\u001b[0m\u001b[90m   @\u001b[39m \u001b[36mQuadmath\u001b[39m \u001b[90mC:\\Users\\lucas\\.julia\\packages\\Quadmath\\3ftGV\\src\\\u001b[39m\u001b[90m\u001b[4mQuadmath.jl:527\u001b[24m\u001b[39m\n\u001b[0m  Float128(\u001b[91m::Float128\u001b[39m)\n\u001b[0m\u001b[90m   @\u001b[39m \u001b[36mQuadmath\u001b[39m \u001b[90mC:\\Users\\lucas\\.julia\\packages\\Quadmath\\3ftGV\\src\\\u001b[39m\u001b[90m\u001b[4mQuadmath.jl:133\u001b[24m\u001b[39m\n\u001b[0m  Float128(\u001b[91m::Float64\u001b[39m)\n\u001b[0m\u001b[90m   @\u001b[39m \u001b[36mQuadmath\u001b[39m \u001b[90mC:\\Users\\lucas\\.julia\\packages\\Quadmath\\3ftGV\\src\\\u001b[39m\u001b[90m\u001b[4mQuadmath.jl:136\u001b[24m\u001b[39m\n\u001b[0m  ...\n",
      "",
      "Stacktrace:",
      " [1] Newton(n::Int64, i::Int64)",
      "   @ Main .\\In[6]:8",
      " [2] top-level scope",
      "   @ In[11]:1"
     ]
    }
   ],
   "source": [
    "Newton(2, 10)"
   ]
  },
  {
   "cell_type": "code",
   "execution_count": null,
   "id": "c990607f-761f-44c2-8b48-b3de8b20fdac",
   "metadata": {},
   "outputs": [],
   "source": []
  }
 ],
 "metadata": {
  "kernelspec": {
   "display_name": "Julia 1.11.4",
   "language": "julia",
   "name": "julia-1.11"
  },
  "language_info": {
   "file_extension": ".jl",
   "mimetype": "application/julia",
   "name": "julia",
   "version": "1.11.4"
  }
 },
 "nbformat": 4,
 "nbformat_minor": 5
}
