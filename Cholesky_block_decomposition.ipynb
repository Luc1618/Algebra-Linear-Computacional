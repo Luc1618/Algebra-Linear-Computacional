{
 "cells": [
  {
   "cell_type": "code",
   "execution_count": 70,
   "metadata": {},
   "outputs": [],
   "source": [
    "# Algoritmo base\n",
    "# https://www.cs.utexas.edu/~flame/Notes/NotesOnCholReal.pdf\n",
    "\n",
    "# Alterações feitas:\n",
    "\n",
    "# A matriz L = zero(A) está sendo criada fora da função\n",
    "# As alterações estão sendo feitas na própria matriz A\n",
    "# Utilizar .= e .-=, operações in-place, otimizaram a alocação"
   ]
  },
  {
   "cell_type": "code",
   "execution_count": 71,
   "metadata": {},
   "outputs": [],
   "source": [
    "using(LinearAlgebra)"
   ]
  },
  {
   "cell_type": "code",
   "execution_count": 72,
   "metadata": {},
   "outputs": [
    {
     "data": {
      "text/plain": [
       "Cholesky_factorize (generic function with 1 method)"
      ]
     },
     "execution_count": 72,
     "metadata": {},
     "output_type": "execute_result"
    }
   ],
   "source": [
    "##### Nível 2\n",
    "\n",
    "# Algoritmo do livro (applied numerical linear algebra)\n",
    "function  Cholesky_factorize(A, L)\n",
    "    # L: matriz de zeros que será alterada, mesmo tamanho de A\n",
    "    \n",
    "    for j in 1:size(A, 1)\n",
    "\n",
    "        L[j, j] = (A[j, j] - sum(L[j, 1:j-1].^2))^(.5)\n",
    "\n",
    "        for i in (j+1):size(A, 1)\n",
    "        \n",
    "            L[i, j] = (A[i, j] - dot(L[i, 1:j-1], L[j, 1:j-1]))/L[j, j]\n",
    "\n",
    "        end\n",
    "\n",
    "    end\n",
    "\n",
    "    return L\n",
    "end"
   ]
  },
  {
   "cell_type": "code",
   "execution_count": 73,
   "metadata": {},
   "outputs": [
    {
     "data": {
      "text/plain": [
       "Cholesky_by_blocks (generic function with 2 methods)"
      ]
     },
     "execution_count": 73,
     "metadata": {},
     "output_type": "execute_result"
    }
   ],
   "source": [
    "### Nível 3 ######\n",
    "\n",
    "function Cholesky_by_blocks(A, block_size)\n",
    "\n",
    "    n = size(A, 1)\n",
    "    \n",
    "    for j in 1:block_size:n\n",
    "\n",
    "        b = min(n - j + 1, block_size)\n",
    "        # Realizando as alterações na própria matriz A, poupa alocações\n",
    "        A[j:(j+b-1), j:(j+b-1)] .= cholesky(A[j:(j + b - 1), j:(j + b - 1)]).L\n",
    "        A[(j+b):n, j:( j + b - 1)] = A[(j+b):n, j:(j + b -1)]*inv(A[j:(j + b - 1), j:(j + b - 1)]')\n",
    "        A[(j+b):n, (j + b):n] .-= A[(j+b):n, j:(j + b - 1)]*A[(j+b):n, j:(j + b - 1)]'\n",
    "\n",
    "    end\n",
    "\n",
    "    return tril(A)\n",
    "end"
   ]
  },
  {
   "cell_type": "code",
   "execution_count": 5,
   "metadata": {},
   "outputs": [
    {
     "data": {
      "text/plain": [
       "5×5 Matrix{Float64}:\n",
       "  3.83913    2.7338    -0.756689   0.921091   3.58136\n",
       "  2.7338     6.71768   -2.54278   -1.19071   -0.991081\n",
       " -0.756689  -2.54278    3.98064   -2.50242    2.20876\n",
       "  0.921091  -1.19071   -2.50242    4.29031    0.767046\n",
       "  3.58136   -0.991081   2.20876    0.767046   7.30593"
      ]
     },
     "metadata": {},
     "output_type": "display_data"
    },
    {
     "data": {
      "text/plain": [
       "5×5 Matrix{Float64}:\n",
       "  1.95937    0.0        0.0       0.0        0.0\n",
       "  1.39524    2.18426    0.0       0.0        0.0\n",
       " -0.38619   -0.91745    1.7291    0.0        0.0\n",
       "  0.470095  -0.845417  -1.79082   0.384157   0.0\n",
       "  1.82781   -1.62129    0.825391  0.0397057  0.808447"
      ]
     },
     "metadata": {},
     "output_type": "display_data"
    },
    {
     "data": {
      "text/plain": [
       "5×5 Matrix{Float64}:\n",
       "  3.83913    2.7338    -0.756689   0.921091   3.58136\n",
       "  2.7338     6.71768   -2.54278   -1.19071   -0.991081\n",
       " -0.756689  -2.54278    3.98064   -2.50242    2.20876\n",
       "  0.921091  -1.19071   -2.50242    4.29031    0.767046\n",
       "  3.58136   -0.991081   2.20876    0.767046   7.30593"
      ]
     },
     "metadata": {},
     "output_type": "display_data"
    },
    {
     "data": {
      "text/plain": [
       "5×5 Matrix{Float64}:\n",
       " 0.0   0.0          0.0  0.0   0.0\n",
       " 0.0  -8.88178e-16  0.0  0.0   0.0\n",
       " 0.0   0.0          0.0  0.0   0.0\n",
       " 0.0   0.0          0.0  0.0   0.0\n",
       " 0.0   0.0          0.0  0.0  -8.88178e-16"
      ]
     },
     "metadata": {},
     "output_type": "display_data"
    },
    {
     "data": {
      "text/plain": [
       "1.2560739669470201e-15"
      ]
     },
     "metadata": {},
     "output_type": "display_data"
    }
   ],
   "source": [
    "# Testando com Cholesky nível 2\n",
    "\n",
    "n = 5\n",
    "X = randn(n, n)\n",
    "\n",
    "A = X*X'\n",
    "\n",
    "L = Cholesky_factorize(A, zero(A))\n",
    "\n",
    "display(A)\n",
    "\n",
    "display(L)\n",
    "\n",
    "display(L*L')\n",
    "\n",
    "display(A - L*L')\n",
    "\n",
    "display(norm(A - L*L'))"
   ]
  },
  {
   "cell_type": "code",
   "execution_count": 75,
   "metadata": {},
   "outputs": [
    {
     "data": {
      "text/plain": [
       "true"
      ]
     },
     "metadata": {},
     "output_type": "display_data"
    },
    {
     "name": "stdout",
     "output_type": "stream",
     "text": [
      "156.185266 seconds (25.55 M allocations: 67.905 GiB, 13.80% gc time)\n",
      "  6.326036 seconds (57 allocations: 336.568 MiB, 0.70% gc time)\n",
      "  2.793130 seconds (4 allocations: 68.665 MiB)\n"
     ]
    },
    {
     "data": {
      "text/plain": [
       "Cholesky{Float64, Matrix{Float64}}\n",
       "U factor:\n",
       "3000×3000 UpperTriangular{Float64, Matrix{Float64}}:\n",
       " 54.0193   1.30559  -0.942096  …  -1.11167     0.28631   -0.141234\n",
       "   ⋅      55.7505   -0.562999     -0.0345803  -1.62654   -0.220445\n",
       "   ⋅        ⋅       53.5039       -1.55653     0.883094  -0.021005\n",
       "   ⋅        ⋅         ⋅            0.193384    1.85367    0.31911\n",
       "   ⋅        ⋅         ⋅           -0.75952    -0.679971   0.616948\n",
       "   ⋅        ⋅         ⋅        …  -0.0770728  -0.400883  -0.76984\n",
       "   ⋅        ⋅         ⋅           -0.221675    1.44972   -0.821316\n",
       "   ⋅        ⋅         ⋅           -0.347639   -0.497066   1.37497\n",
       "   ⋅        ⋅         ⋅           -0.289985   -1.45553   -0.801428\n",
       "   ⋅        ⋅         ⋅            1.11858     1.51475   -1.21315\n",
       "   ⋅        ⋅         ⋅        …  -1.11511     0.964191   0.289936\n",
       "   ⋅        ⋅         ⋅            1.3251      0.741173  -0.37182\n",
       "   ⋅        ⋅         ⋅            0.899014    0.680929   0.271023\n",
       "  ⋮                            ⋱                         \n",
       "   ⋅        ⋅         ⋅           -0.0532363   0.418287  -2.3748\n",
       "   ⋅        ⋅         ⋅           -1.29666     1.03319   -0.840465\n",
       "   ⋅        ⋅         ⋅        …  -1.29096    -0.616227  -1.00996\n",
       "   ⋅        ⋅         ⋅           -1.18171    -1.14567    0.0660808\n",
       "   ⋅        ⋅         ⋅            0.610977   -1.41054    0.745571\n",
       "   ⋅        ⋅         ⋅           -1.77662    -0.79558    1.80594\n",
       "   ⋅        ⋅         ⋅            0.695275   -0.854927   0.373761\n",
       "   ⋅        ⋅         ⋅        …  -0.664112    0.13507    1.29215\n",
       "   ⋅        ⋅         ⋅           -1.22142    -0.152045  -0.262696\n",
       "   ⋅        ⋅         ⋅            0.998545    1.16038   -0.172839\n",
       "   ⋅        ⋅         ⋅             ⋅          1.23502   -1.75457\n",
       "   ⋅        ⋅         ⋅             ⋅           ⋅         1.2266"
      ]
     },
     "execution_count": 75,
     "metadata": {},
     "output_type": "execute_result"
    }
   ],
   "source": [
    "n = 3000\n",
    "X = randn(n, n)\n",
    "size_block = 2048\n",
    "A = X*X'\n",
    "B = copy(A)\n",
    "\n",
    "display(isposdef(A))\n",
    "\n",
    "@time Cholesky_factorize(A, zero(A))\n",
    "# Esta função está alterando diretamente a matriz A, por isso fiz copias de A\n",
    "@time Cholesky_by_blocks(A, size_block)\n",
    "@time cholesky(B)"
   ]
  },
  {
   "cell_type": "code",
   "execution_count": 68,
   "metadata": {},
   "outputs": [
    {
     "data": {
      "text/plain": [
       "2.3394614212697704e-11"
      ]
     },
     "metadata": {},
     "output_type": "display_data"
    },
    {
     "data": {
      "text/plain": [
       "2.801978156752108e-11"
      ]
     },
     "metadata": {},
     "output_type": "display_data"
    },
    {
     "data": {
      "text/plain": [
       "2.0063531514909436e-11"
      ]
     },
     "metadata": {},
     "output_type": "display_data"
    }
   ],
   "source": [
    "n = 1500\n",
    "X = randn(n, n)\n",
    "size_block = 1024\n",
    "\n",
    "A = X*X'\n",
    "B = copy(A)\n",
    "\n",
    "L = Cholesky_factorize(A, zero(A))\n",
    "C = Cholesky_by_blocks(A, size_block)\n",
    "F = cholesky(B)\n",
    "\n",
    "\n",
    "display(norm(B - L*L'))\n",
    "display(norm(B - C*C'))\n",
    "display(norm(B - F.L*F.L'))"
   ]
  }
 ],
 "metadata": {
  "kernelspec": {
   "display_name": "Julia 1.11.4",
   "language": "julia",
   "name": "julia-1.11"
  },
  "language_info": {
   "file_extension": ".jl",
   "mimetype": "application/julia",
   "name": "julia",
   "version": "1.11.4"
  }
 },
 "nbformat": 4,
 "nbformat_minor": 4
}
